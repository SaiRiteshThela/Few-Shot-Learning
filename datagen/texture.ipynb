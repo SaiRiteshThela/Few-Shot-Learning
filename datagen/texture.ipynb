{
  "cells": [
    {
      "cell_type": "code",
      "source": [
        "!pip install noise"
      ],
      "metadata": {
        "colab": {
          "base_uri": "https://localhost:8080/"
        },
        "id": "F1l_89L51aMe",
        "outputId": "1358e0fc-2eea-4636-ca8f-5a5f70f7d3c1"
      },
      "execution_count": 1,
      "outputs": [
        {
          "output_type": "stream",
          "name": "stdout",
          "text": [
            "Looking in indexes: https://pypi.org/simple, https://us-python.pkg.dev/colab-wheels/public/simple/\n",
            "Collecting noise\n",
            "  Downloading noise-1.2.2.zip (132 kB)\n",
            "\u001b[2K     \u001b[90m━━━━━━━━━━━━━━━━━━━━━━━━━━━━━━━━━━━━━━━\u001b[0m \u001b[32m132.0/132.0 kB\u001b[0m \u001b[31m2.5 MB/s\u001b[0m eta \u001b[36m0:00:00\u001b[0m\n",
            "\u001b[?25h  Preparing metadata (setup.py) ... \u001b[?25l\u001b[?25hdone\n",
            "Building wheels for collected packages: noise\n",
            "  Building wheel for noise (setup.py) ... \u001b[?25l\u001b[?25hdone\n",
            "  Created wheel for noise: filename=noise-1.2.2-cp310-cp310-linux_x86_64.whl size=67500 sha256=a02a4cbb1e3effb8c2e162d1530a6331d08cb2d271e9374014a055d168a63532\n",
            "  Stored in directory: /root/.cache/pip/wheels/b2/01/64/ca2f6ed556c204d5ce2d3719a58757a5504aeb5525654692d0\n",
            "Successfully built noise\n",
            "Installing collected packages: noise\n",
            "Successfully installed noise-1.2.2\n"
          ]
        }
      ]
    },
    {
      "cell_type": "code",
      "execution_count": 2,
      "metadata": {
        "id": "d4k4SnimwKn1"
      },
      "outputs": [],
      "source": [
        "import numpy as np\n",
        "from PIL import Image\n",
        "from noise import pnoise2"
      ]
    },
    {
      "cell_type": "code",
      "execution_count": 3,
      "metadata": {
        "id": "iJCd2RXb3WfE"
      },
      "outputs": [],
      "source": [
        "def generate_perlin_noise_color_texture(image_size):\n",
        "    width, height = image_size\n",
        "    scale = 100\n",
        "    octaves = 6\n",
        "    persistence = 0.5\n",
        "    lacunarity = 2.0\n",
        "    seed_r = np.random.randint(0, 100)\n",
        "    seed_g = np.random.randint(0, 100)\n",
        "    seed_b = np.random.randint(0, 100)\n",
        "\n",
        "    texture = np.zeros((height, width, 3), dtype=np.float32)\n",
        "\n",
        "    for y in range(height):\n",
        "        for x in range(width):\n",
        "            nx, ny = x / scale, y / scale\n",
        "            value_r = pnoise2(nx, ny, octaves=octaves, persistence=persistence, lacunarity=lacunarity, repeatx=1024, repeaty=1024, base=seed_r)\n",
        "            value_g = pnoise2(nx, ny, octaves=octaves, persistence=persistence, lacunarity=lacunarity, repeatx=1024, repeaty=1024, base=seed_g)\n",
        "            value_b = pnoise2(nx, ny, octaves=octaves, persistence=persistence, lacunarity=lacunarity, repeatx=1024, repeaty=1024, base=seed_b)\n",
        "            texture[y, x, 0] = value_r\n",
        "            texture[y, x, 1] = value_g\n",
        "            texture[y, x, 2] = value_b\n",
        "\n",
        "    min_value, max_value = np.min(texture), np.max(texture)\n",
        "    normalized_texture = ((texture - min_value) / (max_value - min_value) * 255).astype(np.uint8)\n",
        "\n",
        "    return Image.fromarray(normalized_texture, mode='RGB')"
      ]
    },
    {
      "cell_type": "code",
      "execution_count": 4,
      "metadata": {
        "id": "FcEKEQn2xB30"
      },
      "outputs": [],
      "source": [
        "def generate_sine_wave_color_texture(image_size):\n",
        "    width, height = image_size\n",
        "    texture = np.zeros((height, width, 3), dtype=np.float32)\n",
        "\n",
        "    frequency_r = np.random.uniform(0.01, 0.1)\n",
        "    frequency_g = np.random.uniform(0.01, 0.1)\n",
        "    frequency_b = np.random.uniform(0.01, 0.1)\n",
        "\n",
        "    for y in range(height):\n",
        "        for x in range(width):\n",
        "            value_r = 0.5 * (1 + np.sin(2 * np.pi * frequency_r * x))\n",
        "            value_g = 0.5 * (1 + np.sin(2 * np.pi * frequency_g * y))\n",
        "            value_b = 0.5 * (1 + np.sin(2 * np.pi * frequency_b * (x + y)))\n",
        "            texture[y, x, 0] = value_r\n",
        "            texture[y, x, 1] = value_g\n",
        "            texture[y, x, 2] = value_b\n",
        "\n",
        "    normalized_texture = (texture * 255).astype(np.uint8)\n",
        "\n",
        "    return Image.fromarray(normalized_texture, mode='RGB')\n"
      ]
    },
    {
      "cell_type": "code",
      "execution_count": 9,
      "metadata": {
        "id": "c1xai5jGxyyw"
      },
      "outputs": [],
      "source": [
        "def generate_cellular_automata_color_texture(image_size, iterations=100):\n",
        "    width, height = image_size\n",
        "    texture = np.random.randint(0, 2, size=(height, width, 3), dtype=np.uint8)\n",
        "\n",
        "    def step(state):\n",
        "        kernel = np.array([\n",
        "            [1, 1, 1],\n",
        "            [1, 0, 1],\n",
        "            [1, 1, 1]\n",
        "        ])\n",
        "\n",
        "        neighbors_count = np.zeros_like(state)\n",
        "        for x_shift in range(-1, 2):\n",
        "            for y_shift in range(-1, 2):\n",
        "                if x_shift == 0 and y_shift == 0:\n",
        "                    continue\n",
        "                neighbors_count += np.roll(np.roll(state, y_shift, axis=0), x_shift, axis=1) * kernel[y_shift + 1, x_shift + 1]\n",
        "\n",
        "        new_state = np.zeros_like(state)\n",
        "        new_state[np.logical_or(np.logical_and(state == 1, neighbors_count == 2), neighbors_count == 3)] = 1\n",
        "        return new_state\n",
        "\n",
        "    for _ in range(iterations):\n",
        "        texture[:, :, 0] = step(texture[:, :, 0])\n",
        "        texture[:, :, 1] = step(texture[:, :, 1])\n",
        "        texture[:, :, 2] = step(texture[:, :, 2])\n",
        "\n",
        "    normalized_texture = (texture * 255).astype(np.uint8)\n",
        "\n",
        "    return Image.fromarray(normalized_texture, mode='RGB')\n"
      ]
    },
    {
      "cell_type": "code",
      "execution_count": 10,
      "metadata": {
        "id": "7V8kB79Gy2nW"
      },
      "outputs": [],
      "source": [
        "def generate_mandelbrot_fractal_color_texture(image_size, max_iter=1000):\n",
        "    width, height = image_size\n",
        "    texture = np.zeros((height, width, 3), dtype=np.uint8)\n",
        "\n",
        "    x_min, x_max = -2.0, 1.0\n",
        "    y_min, y_max = -1.5, 1.5\n",
        "\n",
        "    x_values = np.linspace(x_min, x_max, width)\n",
        "    y_values = np.linspace(y_min, y_max, height)\n",
        "\n",
        "    mandelbrot_set = np.zeros((height, width), dtype=np.float32)\n",
        "\n",
        "    for y_index, y in enumerate(y_values):\n",
        "        for x_index, x in enumerate(x_values):\n",
        "            zx, zy = x, y\n",
        "            c = zx + zy * 1j\n",
        "            z = c\n",
        "            for i in range(max_iter):\n",
        "                if abs(z) > 2.0:\n",
        "                    break \n",
        "                z = z * z + c\n",
        "            mandelbrot_set[y_index, x_index] = i / max_iter\n",
        "\n",
        "    # Use the Mandelbrot set values to create a color texture.\n",
        "    texture[:, :, 0] = (mandelbrot_set * 255).astype(np.uint8)\n",
        "    texture[:, :, 1] = (mandelbrot_set * 255 * 0.5).astype(np.uint8)\n",
        "    texture[:, :, 2] = (mandelbrot_set * 255 * 0.8).astype(np.uint8)\n",
        "\n",
        "    return Image.fromarray(texture, mode='RGB')\n"
      ]
    },
    {
      "cell_type": "code",
      "execution_count": 11,
      "metadata": {
        "id": "bpKXOPYa2xvH"
      },
      "outputs": [],
      "source": [
        "import os\n",
        "import random\n",
        "\n",
        "def generate_and_save_random_textures(num_samples, image_size, output_dir='textures', jpeg_quality=90):\n",
        "    if not os.path.exists(output_dir):\n",
        "        os.makedirs(output_dir)\n",
        "\n",
        "    texture_generators = [\n",
        "        generate_perlin_noise_color_texture,\n",
        "        generate_sine_wave_color_texture,\n",
        "        generate_cellular_automata_color_texture,\n",
        "        generate_mandelbrot_fractal_color_texture\n",
        "    ]\n",
        "\n",
        "    weighted_texture_generators = (\n",
        "        [texture_generators[0]] * 96 +\n",
        "        [texture_generators[1]] * 96 +\n",
        "        [texture_generators[2]] * 96 +\n",
        "        [texture_generators[3]] * 4\n",
        "    )\n",
        "\n",
        "    for i in range(num_samples):\n",
        "        texture_generator = random.choice(weighted_texture_generators)\n",
        "        image = texture_generator(image_size)\n",
        "        image.save(os.path.join(output_dir, f'texture_{i+1}.jpg'), format='JPEG', quality=jpeg_quality)\n",
        "\n",
        "\n"
      ]
    },
    {
      "cell_type": "code",
      "execution_count": null,
      "metadata": {
        "id": "8ipovjDV2zoe"
      },
      "outputs": [],
      "source": [
        "num_samples = 100\n",
        "image_size = (512, 512)\n",
        "generate_and_save_random_textures(num_samples, image_size)"
      ]
    },
    {
      "cell_type": "code",
      "source": [
        "from PIL import Image\n",
        "\n",
        "# Create a new image with size 512x512 pixels and all black pixels\n",
        "black_image = Image.new(\"RGB\", (512, 512), color=\"black\")\n",
        "# Save the black image as a PNG file in the \"texture\" folder\n",
        "black_image.save(os.path.join('textures', f'texture_10.jpg'), format='JPEG', quality=90)\n",
        "\n",
        "# Create a new image with size 512x512 pixels and all white pixels\n",
        "white_image = Image.new(\"RGB\", (512, 512), color=\"white\")\n",
        "# Save the white image as a PNG file in the \"texture\" folder\n",
        "white_image.save(os.path.join('textures', f'texture_25.jpg'), format='JPEG', quality=90)\n"
      ],
      "metadata": {
        "id": "Ta34r500HT0-"
      },
      "execution_count": 8,
      "outputs": []
    },
    {
      "cell_type": "code",
      "source": [
        "!zip -r textures.zip /content/textures"
      ],
      "metadata": {
        "id": "UELMdhiyFfgd",
        "outputId": "c58e0f43-0abe-4541-8176-37ff23463d73",
        "colab": {
          "base_uri": "https://localhost:8080/"
        }
      },
      "execution_count": null,
      "outputs": [
        {
          "output_type": "stream",
          "name": "stdout",
          "text": [
            "updating: content/textures/ (stored 0%)\n",
            "updating: content/textures/texture_61.jpg (deflated 0%)\n",
            "updating: content/textures/texture_30.jpg (deflated 1%)\n",
            "updating: content/textures/texture_2.jpg (deflated 1%)\n",
            "updating: content/textures/texture_11.jpg (deflated 0%)\n",
            "updating: content/textures/texture_8.jpg (deflated 1%)\n",
            "updating: content/textures/texture_63.jpg (deflated 1%)\n",
            "updating: content/textures/texture_38.jpg (deflated 3%)\n",
            "updating: content/textures/texture_85.jpg (deflated 1%)\n",
            "updating: content/textures/texture_43.jpg (deflated 1%)\n",
            "updating: content/textures/texture_75.jpg (deflated 0%)\n",
            "updating: content/textures/texture_76.jpg (deflated 9%)\n",
            "updating: content/textures/texture_24.jpg (deflated 1%)\n",
            "updating: content/textures/texture_98.jpg (deflated 0%)\n",
            "updating: content/textures/texture_46.jpg (deflated 0%)\n",
            "updating: content/textures/texture_5.jpg (deflated 8%)\n",
            "updating: content/textures/texture_81.jpg (deflated 6%)\n",
            "updating: content/textures/texture_74.jpg (deflated 1%)\n",
            "updating: content/textures/texture_77.jpg (deflated 0%)\n",
            "updating: content/textures/texture_87.jpg (deflated 0%)\n",
            "updating: content/textures/texture_1.jpg (deflated 14%)\n",
            "updating: content/textures/texture_15.jpg (deflated 1%)\n",
            "updating: content/textures/texture_100.jpg (deflated 1%)\n",
            "updating: content/textures/texture_17.jpg (deflated 0%)\n",
            "updating: content/textures/texture_18.jpg (deflated 1%)\n",
            "updating: content/textures/texture_53.jpg (deflated 1%)\n",
            "updating: content/textures/texture_97.jpg (deflated 0%)\n",
            "updating: content/textures/texture_35.jpg (deflated 0%)\n",
            "updating: content/textures/texture_34.jpg (deflated 1%)\n",
            "updating: content/textures/texture_28.jpg (deflated 21%)\n",
            "updating: content/textures/texture_47.jpg (deflated 15%)\n",
            "updating: content/textures/texture_39.jpg (deflated 5%)\n",
            "updating: content/textures/texture_3.jpg (deflated 1%)\n",
            "updating: content/textures/texture_58.jpg (deflated 12%)\n",
            "updating: content/textures/texture_54.jpg (deflated 0%)\n",
            "updating: content/textures/texture_27.jpg (deflated 7%)\n",
            "updating: content/textures/texture_55.jpg (deflated 1%)\n",
            "updating: content/textures/texture_12.jpg (deflated 5%)\n",
            "updating: content/textures/texture_42.jpg (deflated 6%)\n",
            "updating: content/textures/texture_6.jpg (deflated 4%)\n",
            "updating: content/textures/texture_40.jpg (deflated 0%)\n",
            "updating: content/textures/texture_16.jpg (deflated 11%)\n",
            "updating: content/textures/texture_29.jpg (deflated 1%)\n",
            "updating: content/textures/texture_68.jpg (deflated 5%)\n",
            "updating: content/textures/texture_79.jpg (deflated 1%)\n",
            "updating: content/textures/texture_50.jpg (deflated 1%)\n",
            "updating: content/textures/texture_65.jpg (deflated 9%)\n",
            "updating: content/textures/texture_13.jpg (deflated 0%)\n",
            "updating: content/textures/texture_57.jpg (deflated 0%)\n",
            "updating: content/textures/texture_7.jpg (deflated 8%)\n",
            "updating: content/textures/texture_37.jpg (deflated 1%)\n",
            "updating: content/textures/texture_19.jpg (deflated 1%)\n",
            "updating: content/textures/texture_90.jpg (deflated 1%)\n",
            "updating: content/textures/texture_72.jpg (deflated 0%)\n",
            "updating: content/textures/texture_14.jpg (deflated 0%)\n",
            "updating: content/textures/texture_44.jpg (deflated 1%)\n",
            "updating: content/textures/texture_49.jpg (deflated 0%)\n",
            "updating: content/textures/texture_33.jpg (deflated 0%)\n",
            "updating: content/textures/texture_96.jpg (deflated 4%)\n",
            "updating: content/textures/texture_36.jpg (deflated 1%)\n",
            "updating: content/textures/texture_26.jpg (deflated 8%)\n",
            "updating: content/textures/texture_95.jpg (deflated 1%)\n",
            "updating: content/textures/texture_82.jpg (deflated 1%)\n",
            "updating: content/textures/texture_10.jpg (deflated 90%)\n",
            "updating: content/textures/texture_67.jpg (deflated 0%)\n",
            "updating: content/textures/texture_62.jpg (deflated 10%)\n",
            "updating: content/textures/texture_78.jpg (deflated 0%)\n",
            "updating: content/textures/texture_31.jpg (deflated 4%)\n",
            "updating: content/textures/texture_91.jpg (deflated 1%)\n",
            "updating: content/textures/texture_20.jpg (deflated 4%)\n",
            "updating: content/textures/texture_66.jpg (deflated 18%)\n",
            "updating: content/textures/texture_56.jpg (deflated 1%)\n",
            "updating: content/textures/texture_23.jpg (deflated 0%)\n",
            "updating: content/textures/texture_88.jpg (deflated 18%)\n",
            "updating: content/textures/texture_41.jpg (deflated 8%)\n",
            "updating: content/textures/texture_71.jpg (deflated 1%)\n",
            "updating: content/textures/texture_86.jpg (deflated 11%)\n",
            "updating: content/textures/texture_32.jpg (deflated 0%)\n",
            "updating: content/textures/texture_69.jpg (deflated 4%)\n",
            "updating: content/textures/texture_21.jpg (deflated 1%)\n",
            "updating: content/textures/texture_64.jpg (deflated 0%)\n",
            "updating: content/textures/texture_22.jpg (deflated 6%)\n",
            "updating: content/textures/texture_70.jpg (deflated 6%)\n",
            "updating: content/textures/texture_80.jpg (deflated 6%)\n",
            "updating: content/textures/texture_89.jpg (deflated 1%)\n",
            "updating: content/textures/texture_94.jpg (deflated 0%)\n",
            "updating: content/textures/texture_9.jpg (deflated 1%)\n",
            "updating: content/textures/texture_4.jpg (deflated 0%)\n",
            "updating: content/textures/texture_83.jpg (deflated 14%)\n",
            "updating: content/textures/texture_25.jpg (deflated 90%)\n",
            "updating: content/textures/texture_84.jpg (deflated 0%)\n",
            "updating: content/textures/texture_52.jpg (deflated 0%)\n",
            "updating: content/textures/texture_99.jpg (deflated 1%)\n",
            "updating: content/textures/texture_92.jpg (deflated 10%)\n",
            "updating: content/textures/texture_60.jpg (deflated 8%)\n",
            "updating: content/textures/texture_45.jpg (deflated 5%)\n",
            "updating: content/textures/texture_51.jpg (deflated 0%)\n",
            "updating: content/textures/texture_48.jpg (deflated 4%)\n",
            "updating: content/textures/texture_59.jpg (deflated 0%)\n",
            "updating: content/textures/texture_93.jpg (deflated 1%)\n",
            "updating: content/textures/texture_73.jpg (deflated 1%)\n"
          ]
        }
      ]
    }
  ],
  "metadata": {
    "colab": {
      "provenance": []
    },
    "kernelspec": {
      "display_name": "Python 3",
      "name": "python3"
    },
    "language_info": {
      "name": "python"
    }
  },
  "nbformat": 4,
  "nbformat_minor": 0
}